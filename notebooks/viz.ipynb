{
 "cells": [
  {
   "cell_type": "code",
   "execution_count": 26,
   "id": "ea99a25d",
   "metadata": {},
   "outputs": [],
   "source": [
    "import os\n",
    "import json\n",
    "\n",
    "import torch\n",
    "import models_vit\n",
    "from util.fmow_datasets import build_fmow_dataset\n",
    "\n",
    "import matplotlib.pyplot as plt\n",
    "from PIL import Image\n",
    "from collections import namedtuple"
   ]
  },
  {
   "cell_type": "code",
   "execution_count": 2,
   "id": "ec763cf8",
   "metadata": {},
   "outputs": [],
   "source": [
    "ArgObject = namedtuple('ArgObject', [\n",
    "    'model', 'batch_size', 'input_size', 'nb_classes', 'train_path', 'test_path', \n",
    "    'device', 'seed', 'resume', 'eval', 'num_workers'\n",
    "])\n",
    "args = ArgObject(\n",
    "    model='vit_base_patch16',\n",
    "    batch_size=16,\n",
    "    input_size=224,\n",
    "    train_path='/atlas/u/buzkent/patchdrop/data/fMoW/train_62classes.csv',\n",
    "    test_path='/atlas/u/buzkent/patchdrop/data/fMoW/test_62classes.csv',\n",
    "    nb_classes=62,\n",
    "    device='cuda',\n",
    "    seed=0,\n",
    "    resume='/atlas/u/samarkhanna/output_finetune_imgnet/checkpoint-9.pth',\n",
    "    eval=True,\n",
    "    num_workers=2\n",
    ")"
   ]
  },
  {
   "cell_type": "code",
   "execution_count": 3,
   "id": "6b3f0d68",
   "metadata": {},
   "outputs": [],
   "source": [
    "def return_correct_pred(model, data_loader, device, till=200):\n",
    "    model.eval()\n",
    "\n",
    "    correct_list = torch.empty(0, device=device)\n",
    "    pred_list = torch.empty(0, device=device)\n",
    "    true_list = torch.empty(0, device=device)\n",
    "    with torch.no_grad():\n",
    "        for i, (x, y) in enumerate(data_loader):\n",
    "            x = x.to(device)\n",
    "            y = y.to(device)  # (b,)\n",
    "\n",
    "            with torch.cuda.amp.autocast():\n",
    "                output = model(x)  # (b, 62)\n",
    "\n",
    "            _, pred = output.topk(1, 1, True, True)  # (b, 5)\n",
    "            pred = pred.T  # (5, b)\n",
    "\n",
    "            correct = pred.eq(y.reshape(1, -1).expand_as(pred))  # (5, b)\n",
    "            top_pred = output.argmax(1)  # (b,)\n",
    "            \n",
    "            correct_list = torch.cat((correct_list, correct.float().sum(0).reshape(-1)))\n",
    "            pred_list = torch.cat((pred_list, top_pred))\n",
    "            true_list = torch.cat((true_list, y))\n",
    "            \n",
    "            if len(correct_list) > till:\n",
    "                break\n",
    "    return correct_list.cpu(), pred_list.cpu(), true_list.cpu()"
   ]
  },
  {
   "cell_type": "code",
   "execution_count": 4,
   "id": "d6db5628",
   "metadata": {},
   "outputs": [],
   "source": [
    "device = torch.device(args.device)"
   ]
  },
  {
   "cell_type": "code",
   "execution_count": 5,
   "id": "e4b09d3c",
   "metadata": {},
   "outputs": [
    {
     "name": "stdout",
     "output_type": "stream",
     "text": [
      "<util.fmow_datasets.CustomDatasetFromImages object at 0x7fd2b75e5be0>\n"
     ]
    },
    {
     "name": "stderr",
     "output_type": "stream",
     "text": [
      "/atlas/u/samarkhanna/miniconda3/envs/sat_env/lib/python3.8/site-packages/torchvision/transforms/transforms.py:287: UserWarning: Argument interpolation should be of type InterpolationMode instead of int. Please, use InterpolationMode enum.\n",
      "  warnings.warn(\n"
     ]
    }
   ],
   "source": [
    "dataset_val = build_fmow_dataset(is_train=False, args=args)\n",
    "sampler_val = torch.utils.data.SequentialSampler(dataset_val)\n",
    "data_loader_val = torch.utils.data.DataLoader(\n",
    "    dataset_val, sampler=sampler_val,\n",
    "    batch_size=args.batch_size,\n",
    "    num_workers=args.num_workers,\n",
    "    drop_last=False\n",
    ")"
   ]
  },
  {
   "cell_type": "code",
   "execution_count": null,
   "id": "589fb8ea",
   "metadata": {},
   "outputs": [],
   "source": [
    "model1 = models_vit.__dict__[args.model](\n",
    "    num_classes=args.nb_classes, drop_path_rate=0.1, global_pool=True,\n",
    ")"
   ]
  },
  {
   "cell_type": "code",
   "execution_count": null,
   "id": "8e28d483",
   "metadata": {},
   "outputs": [],
   "source": [
    "model1.to(device)"
   ]
  },
  {
   "cell_type": "code",
   "execution_count": null,
   "id": "3cc7e30c",
   "metadata": {},
   "outputs": [],
   "source": [
    "checkpoint1 = torch.load('/atlas/u/samarkhanna/output_finetune_imgnet/checkpoint-9.pth', map_location='cpu')\n",
    "model1.load_state_dict(checkpoint1['model'])"
   ]
  },
  {
   "cell_type": "code",
   "execution_count": null,
   "id": "2d2d675a",
   "metadata": {},
   "outputs": [],
   "source": [
    "correct1, pred1, true1 = return_correct_pred(model1, data_loader_val, device, till=200)\n",
    "del model1"
   ]
  },
  {
   "cell_type": "markdown",
   "id": "b11cfa9b",
   "metadata": {},
   "source": [
    "FMoW fine-tuned"
   ]
  },
  {
   "cell_type": "code",
   "execution_count": 6,
   "id": "e4f14c93",
   "metadata": {},
   "outputs": [],
   "source": [
    "model2 = models_vit.__dict__[args.model](\n",
    "    num_classes=args.nb_classes, drop_path_rate=0.1, global_pool=True,\n",
    ")"
   ]
  },
  {
   "cell_type": "code",
   "execution_count": 7,
   "id": "bb79fac9",
   "metadata": {},
   "outputs": [
    {
     "data": {
      "text/plain": [
       "<All keys matched successfully>"
      ]
     },
     "execution_count": 7,
     "metadata": {},
     "output_type": "execute_result"
    }
   ],
   "source": [
    "checkpoint2 = torch.load('/sailhome/samarkhanna/mae/output_finetune_no_augment_20/checkpoint-9.pth', map_location='cpu')\n",
    "model2.load_state_dict(checkpoint2['model'])"
   ]
  },
  {
   "cell_type": "code",
   "execution_count": 8,
   "id": "0f096b7f",
   "metadata": {},
   "outputs": [
    {
     "data": {
      "text/plain": [
       "VisionTransformer(\n",
       "  (patch_embed): PatchEmbed(\n",
       "    (proj): Conv2d(3, 768, kernel_size=(16, 16), stride=(16, 16))\n",
       "  )\n",
       "  (pos_drop): Dropout(p=0.0, inplace=False)\n",
       "  (blocks): ModuleList(\n",
       "    (0): Block(\n",
       "      (norm1): LayerNorm((768,), eps=1e-06, elementwise_affine=True)\n",
       "      (attn): Attention(\n",
       "        (qkv): Linear(in_features=768, out_features=2304, bias=True)\n",
       "        (attn_drop): Dropout(p=0.0, inplace=False)\n",
       "        (proj): Linear(in_features=768, out_features=768, bias=True)\n",
       "        (proj_drop): Dropout(p=0.0, inplace=False)\n",
       "      )\n",
       "      (drop_path): Identity()\n",
       "      (norm2): LayerNorm((768,), eps=1e-06, elementwise_affine=True)\n",
       "      (mlp): Mlp(\n",
       "        (fc1): Linear(in_features=768, out_features=3072, bias=True)\n",
       "        (act): GELU()\n",
       "        (fc2): Linear(in_features=3072, out_features=768, bias=True)\n",
       "        (drop): Dropout(p=0.0, inplace=False)\n",
       "      )\n",
       "    )\n",
       "    (1): Block(\n",
       "      (norm1): LayerNorm((768,), eps=1e-06, elementwise_affine=True)\n",
       "      (attn): Attention(\n",
       "        (qkv): Linear(in_features=768, out_features=2304, bias=True)\n",
       "        (attn_drop): Dropout(p=0.0, inplace=False)\n",
       "        (proj): Linear(in_features=768, out_features=768, bias=True)\n",
       "        (proj_drop): Dropout(p=0.0, inplace=False)\n",
       "      )\n",
       "      (drop_path): DropPath()\n",
       "      (norm2): LayerNorm((768,), eps=1e-06, elementwise_affine=True)\n",
       "      (mlp): Mlp(\n",
       "        (fc1): Linear(in_features=768, out_features=3072, bias=True)\n",
       "        (act): GELU()\n",
       "        (fc2): Linear(in_features=3072, out_features=768, bias=True)\n",
       "        (drop): Dropout(p=0.0, inplace=False)\n",
       "      )\n",
       "    )\n",
       "    (2): Block(\n",
       "      (norm1): LayerNorm((768,), eps=1e-06, elementwise_affine=True)\n",
       "      (attn): Attention(\n",
       "        (qkv): Linear(in_features=768, out_features=2304, bias=True)\n",
       "        (attn_drop): Dropout(p=0.0, inplace=False)\n",
       "        (proj): Linear(in_features=768, out_features=768, bias=True)\n",
       "        (proj_drop): Dropout(p=0.0, inplace=False)\n",
       "      )\n",
       "      (drop_path): DropPath()\n",
       "      (norm2): LayerNorm((768,), eps=1e-06, elementwise_affine=True)\n",
       "      (mlp): Mlp(\n",
       "        (fc1): Linear(in_features=768, out_features=3072, bias=True)\n",
       "        (act): GELU()\n",
       "        (fc2): Linear(in_features=3072, out_features=768, bias=True)\n",
       "        (drop): Dropout(p=0.0, inplace=False)\n",
       "      )\n",
       "    )\n",
       "    (3): Block(\n",
       "      (norm1): LayerNorm((768,), eps=1e-06, elementwise_affine=True)\n",
       "      (attn): Attention(\n",
       "        (qkv): Linear(in_features=768, out_features=2304, bias=True)\n",
       "        (attn_drop): Dropout(p=0.0, inplace=False)\n",
       "        (proj): Linear(in_features=768, out_features=768, bias=True)\n",
       "        (proj_drop): Dropout(p=0.0, inplace=False)\n",
       "      )\n",
       "      (drop_path): DropPath()\n",
       "      (norm2): LayerNorm((768,), eps=1e-06, elementwise_affine=True)\n",
       "      (mlp): Mlp(\n",
       "        (fc1): Linear(in_features=768, out_features=3072, bias=True)\n",
       "        (act): GELU()\n",
       "        (fc2): Linear(in_features=3072, out_features=768, bias=True)\n",
       "        (drop): Dropout(p=0.0, inplace=False)\n",
       "      )\n",
       "    )\n",
       "    (4): Block(\n",
       "      (norm1): LayerNorm((768,), eps=1e-06, elementwise_affine=True)\n",
       "      (attn): Attention(\n",
       "        (qkv): Linear(in_features=768, out_features=2304, bias=True)\n",
       "        (attn_drop): Dropout(p=0.0, inplace=False)\n",
       "        (proj): Linear(in_features=768, out_features=768, bias=True)\n",
       "        (proj_drop): Dropout(p=0.0, inplace=False)\n",
       "      )\n",
       "      (drop_path): DropPath()\n",
       "      (norm2): LayerNorm((768,), eps=1e-06, elementwise_affine=True)\n",
       "      (mlp): Mlp(\n",
       "        (fc1): Linear(in_features=768, out_features=3072, bias=True)\n",
       "        (act): GELU()\n",
       "        (fc2): Linear(in_features=3072, out_features=768, bias=True)\n",
       "        (drop): Dropout(p=0.0, inplace=False)\n",
       "      )\n",
       "    )\n",
       "    (5): Block(\n",
       "      (norm1): LayerNorm((768,), eps=1e-06, elementwise_affine=True)\n",
       "      (attn): Attention(\n",
       "        (qkv): Linear(in_features=768, out_features=2304, bias=True)\n",
       "        (attn_drop): Dropout(p=0.0, inplace=False)\n",
       "        (proj): Linear(in_features=768, out_features=768, bias=True)\n",
       "        (proj_drop): Dropout(p=0.0, inplace=False)\n",
       "      )\n",
       "      (drop_path): DropPath()\n",
       "      (norm2): LayerNorm((768,), eps=1e-06, elementwise_affine=True)\n",
       "      (mlp): Mlp(\n",
       "        (fc1): Linear(in_features=768, out_features=3072, bias=True)\n",
       "        (act): GELU()\n",
       "        (fc2): Linear(in_features=3072, out_features=768, bias=True)\n",
       "        (drop): Dropout(p=0.0, inplace=False)\n",
       "      )\n",
       "    )\n",
       "    (6): Block(\n",
       "      (norm1): LayerNorm((768,), eps=1e-06, elementwise_affine=True)\n",
       "      (attn): Attention(\n",
       "        (qkv): Linear(in_features=768, out_features=2304, bias=True)\n",
       "        (attn_drop): Dropout(p=0.0, inplace=False)\n",
       "        (proj): Linear(in_features=768, out_features=768, bias=True)\n",
       "        (proj_drop): Dropout(p=0.0, inplace=False)\n",
       "      )\n",
       "      (drop_path): DropPath()\n",
       "      (norm2): LayerNorm((768,), eps=1e-06, elementwise_affine=True)\n",
       "      (mlp): Mlp(\n",
       "        (fc1): Linear(in_features=768, out_features=3072, bias=True)\n",
       "        (act): GELU()\n",
       "        (fc2): Linear(in_features=3072, out_features=768, bias=True)\n",
       "        (drop): Dropout(p=0.0, inplace=False)\n",
       "      )\n",
       "    )\n",
       "    (7): Block(\n",
       "      (norm1): LayerNorm((768,), eps=1e-06, elementwise_affine=True)\n",
       "      (attn): Attention(\n",
       "        (qkv): Linear(in_features=768, out_features=2304, bias=True)\n",
       "        (attn_drop): Dropout(p=0.0, inplace=False)\n",
       "        (proj): Linear(in_features=768, out_features=768, bias=True)\n",
       "        (proj_drop): Dropout(p=0.0, inplace=False)\n",
       "      )\n",
       "      (drop_path): DropPath()\n",
       "      (norm2): LayerNorm((768,), eps=1e-06, elementwise_affine=True)\n",
       "      (mlp): Mlp(\n",
       "        (fc1): Linear(in_features=768, out_features=3072, bias=True)\n",
       "        (act): GELU()\n",
       "        (fc2): Linear(in_features=3072, out_features=768, bias=True)\n",
       "        (drop): Dropout(p=0.0, inplace=False)\n",
       "      )\n",
       "    )\n",
       "    (8): Block(\n",
       "      (norm1): LayerNorm((768,), eps=1e-06, elementwise_affine=True)\n",
       "      (attn): Attention(\n",
       "        (qkv): Linear(in_features=768, out_features=2304, bias=True)\n",
       "        (attn_drop): Dropout(p=0.0, inplace=False)\n",
       "        (proj): Linear(in_features=768, out_features=768, bias=True)\n",
       "        (proj_drop): Dropout(p=0.0, inplace=False)\n",
       "      )\n",
       "      (drop_path): DropPath()\n",
       "      (norm2): LayerNorm((768,), eps=1e-06, elementwise_affine=True)\n",
       "      (mlp): Mlp(\n",
       "        (fc1): Linear(in_features=768, out_features=3072, bias=True)\n",
       "        (act): GELU()\n",
       "        (fc2): Linear(in_features=3072, out_features=768, bias=True)\n",
       "        (drop): Dropout(p=0.0, inplace=False)\n",
       "      )\n",
       "    )\n",
       "    (9): Block(\n",
       "      (norm1): LayerNorm((768,), eps=1e-06, elementwise_affine=True)\n",
       "      (attn): Attention(\n",
       "        (qkv): Linear(in_features=768, out_features=2304, bias=True)\n",
       "        (attn_drop): Dropout(p=0.0, inplace=False)\n",
       "        (proj): Linear(in_features=768, out_features=768, bias=True)\n",
       "        (proj_drop): Dropout(p=0.0, inplace=False)\n",
       "      )\n",
       "      (drop_path): DropPath()\n",
       "      (norm2): LayerNorm((768,), eps=1e-06, elementwise_affine=True)\n",
       "      (mlp): Mlp(\n",
       "        (fc1): Linear(in_features=768, out_features=3072, bias=True)\n",
       "        (act): GELU()\n",
       "        (fc2): Linear(in_features=3072, out_features=768, bias=True)\n",
       "        (drop): Dropout(p=0.0, inplace=False)\n",
       "      )\n",
       "    )\n",
       "    (10): Block(\n",
       "      (norm1): LayerNorm((768,), eps=1e-06, elementwise_affine=True)\n",
       "      (attn): Attention(\n",
       "        (qkv): Linear(in_features=768, out_features=2304, bias=True)\n",
       "        (attn_drop): Dropout(p=0.0, inplace=False)\n",
       "        (proj): Linear(in_features=768, out_features=768, bias=True)\n",
       "        (proj_drop): Dropout(p=0.0, inplace=False)\n",
       "      )\n",
       "      (drop_path): DropPath()\n",
       "      (norm2): LayerNorm((768,), eps=1e-06, elementwise_affine=True)\n",
       "      (mlp): Mlp(\n",
       "        (fc1): Linear(in_features=768, out_features=3072, bias=True)\n",
       "        (act): GELU()\n",
       "        (fc2): Linear(in_features=3072, out_features=768, bias=True)\n",
       "        (drop): Dropout(p=0.0, inplace=False)\n",
       "      )\n",
       "    )\n",
       "    (11): Block(\n",
       "      (norm1): LayerNorm((768,), eps=1e-06, elementwise_affine=True)\n",
       "      (attn): Attention(\n",
       "        (qkv): Linear(in_features=768, out_features=2304, bias=True)\n",
       "        (attn_drop): Dropout(p=0.0, inplace=False)\n",
       "        (proj): Linear(in_features=768, out_features=768, bias=True)\n",
       "        (proj_drop): Dropout(p=0.0, inplace=False)\n",
       "      )\n",
       "      (drop_path): DropPath()\n",
       "      (norm2): LayerNorm((768,), eps=1e-06, elementwise_affine=True)\n",
       "      (mlp): Mlp(\n",
       "        (fc1): Linear(in_features=768, out_features=3072, bias=True)\n",
       "        (act): GELU()\n",
       "        (fc2): Linear(in_features=3072, out_features=768, bias=True)\n",
       "        (drop): Dropout(p=0.0, inplace=False)\n",
       "      )\n",
       "    )\n",
       "  )\n",
       "  (head): Linear(in_features=768, out_features=62, bias=True)\n",
       "  (fc_norm): LayerNorm((768,), eps=1e-06, elementwise_affine=True)\n",
       ")"
      ]
     },
     "execution_count": 8,
     "metadata": {},
     "output_type": "execute_result"
    }
   ],
   "source": [
    "model2.to(device)"
   ]
  },
  {
   "cell_type": "code",
   "execution_count": 9,
   "id": "d46e6215",
   "metadata": {},
   "outputs": [],
   "source": [
    "correct2, pred2, true2 = return_correct_pred(model2, data_loader_val, device)\n",
    "del model2"
   ]
  },
  {
   "cell_type": "markdown",
   "id": "d62ca113",
   "metadata": {},
   "source": [
    "## Visualization"
   ]
  },
  {
   "cell_type": "code",
   "execution_count": 32,
   "id": "bc50b452",
   "metadata": {},
   "outputs": [
    {
     "name": "stdout",
     "output_type": "stream",
     "text": [
      "62\n"
     ]
    }
   ],
   "source": [
    "CATEGORIES = [\"airport\", \"airport_hangar\", \"airport_terminal\", \"amusement_park\",\n",
    "              \"aquaculture\", \"archaeological_site\", \"barn\", \"border_checkpoint\",\n",
    "              \"burial_site\", \"car_dealership\", \"construction_site\", \"crop_field\",\n",
    "              \"dam\", \"debris_or_rubble\", \"educational_institution\", \"electric_substation\",\n",
    "              \"factory_or_powerplant\", \"fire_station\", \"flooded_road\", \"fountain\",\n",
    "              \"gas_station\", \"golf_course\", \"ground_transportation_station\", \"helipad\",\n",
    "              \"hospital\", \"impoverished_settlement\", \"interchange\", \"lake_or_pond\",\n",
    "              \"lighthouse\", \"military_facility\", \"multi-unit_residential\",\n",
    "              \"nuclear_powerplant\", \"office_building\", \"oil_or_gas_facility\", \"park\",\n",
    "              \"parking_lot_or_garage\", \"place_of_worship\", \"police_station\", \"port\",\n",
    "              \"prison\", \"race_track\", \"railway_bridge\", \"recreational_facility\",\n",
    "              \"road_bridge\", \"runway\", \"shipyard\", \"shopping_mall\",\n",
    "              \"single-unit_residential\", \"smokestack\", \"solar_farm\", \"space_facility\",\n",
    "              \"stadium\", \"storage_tank\", \"surface_mine\", \"swimming_pool\", \"toll_booth\",\n",
    "              \"tower\", \"tunnel_opening\", \"waste_disposal\", \"water_treatment_facility\",\n",
    "              \"wind_farm\", \"zoo\"]\n",
    "print(len(CATEGORIES))"
   ]
  },
  {
   "cell_type": "code",
   "execution_count": 13,
   "id": "97a64fbc",
   "metadata": {},
   "outputs": [],
   "source": [
    "correct1 = torch.tensor([1., 1., 1., 0., 1., 1., 1., 1., 1., 1., 1., 0., 0., 1., 1., 1., 1., 1.,\n",
    "        1., 1., 0., 0., 1., 1., 1., 1., 1., 1., 1., 0., 1., 1., 1., 1., 0., 1.,\n",
    "        0., 1., 1., 1., 1., 0., 0., 1., 1., 0., 1., 1., 1., 1., 1., 1., 0., 1.,\n",
    "        1., 1., 1., 0., 1., 1., 0., 1., 0., 1., 1., 1., 1., 1., 1., 1., 0., 1.,\n",
    "        1., 1., 0., 1., 1., 1., 1., 0., 0., 1., 1., 1., 1., 0., 0., 1., 1., 1.,\n",
    "        1., 0., 1., 0., 1., 0., 0., 1., 1., 1., 0., 0., 1., 1., 1., 1., 1., 1.,\n",
    "        0., 1., 1., 1., 1., 0., 1., 1., 1., 1., 1., 1., 1., 1., 0., 1., 1., 1.,\n",
    "        1., 1., 1., 1., 0., 1., 1., 1., 1., 0., 1., 1., 1., 1., 1., 1., 0., 1.,\n",
    "        1., 1., 1., 1., 1., 1., 1., 1., 1., 1., 1., 1., 1., 1., 1., 0., 1., 0.,\n",
    "        0., 0., 1., 1., 1., 1., 1., 1., 1., 1., 0., 1., 1., 1., 1., 1., 0., 1.,\n",
    "        1., 1., 1., 1., 1., 0., 1., 1., 1., 1., 1., 1., 1., 0., 0., 1., 1., 1.,\n",
    "        1., 0., 1., 1., 1., 1., 1., 0., 1., 1.])\n",
    "pred1 = torch.tensor([47., 51., 23., 53.,  9., 36., 21., 51., 16., 57., 41.,  6., 13.,  2.,\n",
    "        15., 35., 28., 42., 52., 52., 52., 47., 52., 61., 29., 46., 42., 51.,\n",
    "        11., 58., 34., 11., 28.,  9., 37., 57., 35., 22., 36.,  6., 40., 13.,\n",
    "        30., 57., 42., 30., 21., 33., 53.,  6., 34., 26., 15., 14., 23., 39.,\n",
    "        37., 47., 49., 34., 39., 42., 24., 37., 34., 56., 22., 35., 39.,  3.,\n",
    "        43., 15., 57., 22., 22., 58., 60.,  4., 14., 36.,  5., 46., 47., 42.,\n",
    "        48., 43., 32., 11., 42., 42., 29., 35.,  1., 35., 11., 17., 36., 11.,\n",
    "         8., 47., 22., 35., 23.,  8.,  1., 40., 36., 11., 21., 55., 60., 19.,\n",
    "        42., 47., 29.,  9., 40., 17., 40., 30., 37., 29., 32., 57., 11.,  1.,\n",
    "         0., 11.,  8., 37., 59., 49., 19., 47., 26., 43., 11., 36., 57., 35.,\n",
    "        42., 11., 30.,  3., 36., 17., 60.,  1., 34.,  1., 47., 29., 49., 35.,\n",
    "        11.,  7., 54., 47., 42., 49., 42., 34., 54., 30., 39., 33., 26.,  2.,\n",
    "        20., 48.,  5., 34., 17., 51., 26., 35., 11., 14., 24., 36.,  5., 35.,\n",
    "        51., 47., 23., 55.,  2., 43.,  3., 33., 50., 35., 29., 39., 36.,  2.,\n",
    "        33., 42., 40., 37., 54., 47., 11., 11., 42., 24., 23., 29.])\n",
    "true = torch.tensor([47., 51., 23.,  5.,  9., 36., 21., 51., 16., 57., 41., 32., 24.,  2.,\n",
    "        15., 35., 28., 42., 52., 52., 13.,  1., 52., 61., 29., 46., 42., 51.,\n",
    "        11., 61., 34., 11., 28.,  9., 24., 57., 36., 22., 36.,  6., 40., 30.,\n",
    "        36., 57., 42., 37., 21., 33., 53.,  6., 34., 26., 48., 14., 23., 39.,\n",
    "        37., 30., 49., 34., 50., 42., 46., 37., 34., 56., 22., 35., 39.,  3.,\n",
    "        18., 15., 57., 22.,  9., 58., 60.,  4., 14., 17., 60., 46., 47., 42.,\n",
    "        48., 11., 24., 11., 42., 42., 29.,  2.,  1., 32., 11., 32., 56., 11.,\n",
    "         8., 47., 32., 36., 23.,  8.,  1., 40., 36., 11.,  3., 55., 60., 19.,\n",
    "        42., 14., 29.,  9., 40., 17., 40., 30., 37., 29., 22., 57., 11.,  1.,\n",
    "         0., 11.,  8., 37., 49., 49., 19., 47., 26., 41., 11., 36., 57., 35.,\n",
    "        42., 11., 17.,  3., 36., 17., 60.,  1., 34.,  1., 47., 29., 49., 35.,\n",
    "        11.,  7., 54., 47., 42.,  6., 42., 61., 37., 36., 39., 33., 26.,  2.,\n",
    "        20., 48.,  5., 34., 37., 51., 26., 35., 11., 14.,  6., 36.,  5., 35.,\n",
    "        51., 47., 23., 22.,  2., 43.,  3., 33., 50., 35., 29., 30., 29.,  2.,\n",
    "        33., 42., 40., 24., 54., 47., 11., 11., 42., 14., 23., 29.])\n",
    "\n",
    "correct2 = torch.tensor([1., 1., 1., 1., 1., 1., 0., 1., 1., 1., 1., 0., 0., 0., 1., 1., 0., 1.,\n",
    "        1., 1., 0., 0., 1., 0., 0., 1., 1., 1., 1., 0., 1., 1., 1., 1., 0., 1.,\n",
    "        0., 1., 1., 1., 1., 1., 1., 1., 1., 1., 1., 1., 1., 0., 1., 1., 0., 0.,\n",
    "        0., 1., 1., 0., 1., 1., 0., 1., 0., 1., 1., 1., 0., 1., 0., 1., 1., 1.,\n",
    "        1., 1., 0., 1., 1., 0., 0., 0., 1., 1., 1., 1., 0., 1., 0., 1., 1., 1.,\n",
    "        1., 0., 1., 0., 1., 0., 0., 1., 0., 1., 0., 0., 1., 1., 1., 1., 1., 1.,\n",
    "        0., 1., 1., 0., 1., 0., 1., 1., 0., 0., 0., 0., 0., 1., 1., 1., 1., 0.,\n",
    "        1., 1., 0., 0., 0., 1., 0., 1., 1., 0., 1., 1., 1., 1., 1., 1., 0., 1.,\n",
    "        0., 0., 1., 1., 0., 1., 0., 1., 1., 1., 1., 0., 1., 1., 1., 0., 1., 0.,\n",
    "        0., 0., 1., 1., 1., 1., 1., 1., 1., 1., 1., 1., 1., 1., 1., 0., 0., 1.,\n",
    "        1., 0., 1., 1., 1., 0., 1., 1., 1., 1., 1., 1., 1., 0., 0., 1., 0., 1.,\n",
    "        1., 0., 1., 1., 1., 1., 1., 0., 0., 0.])\n",
    "pred2 = torch.tensor([47., 51., 23.,  5.,  9., 36., 34., 51., 16., 57., 41., 17.,  7.,  7.,\n",
    "        15., 35., 21., 42., 52., 52., 56., 47., 52.,  3., 14., 46., 42., 51.,\n",
    "        11., 39., 34., 11., 28.,  9., 37., 57., 35., 22., 36.,  6., 40., 30.,\n",
    "        36., 57., 42., 37., 21., 33., 53., 36., 34., 26., 32., 35., 42., 39.,\n",
    "        37., 47., 49., 34., 16., 42., 30., 37., 34., 56., 39., 35., 36.,  3.,\n",
    "        18., 15., 57., 22.,  2., 58., 60., 27., 24., 47., 60., 46., 47., 42.,\n",
    "        56., 11., 39., 11., 42., 42., 29., 46.,  1., 29., 11., 17., 30., 11.,\n",
    "        37., 47., 23., 48., 23.,  8.,  1., 40., 36., 11., 21., 55., 60.,  5.,\n",
    "        42., 37., 29.,  9., 26., 35.,  3., 36., 36., 29., 22., 57., 11.,  2.,\n",
    "         0., 11., 11., 17.,  1., 49., 42., 47., 26., 43., 11., 36., 57., 35.,\n",
    "        42., 11., 35.,  3., 37., 14., 60.,  1., 36.,  1., 30., 29., 49., 35.,\n",
    "        11., 53., 54., 47., 42., 49., 42.,  8., 32., 30., 39., 33., 26.,  2.,\n",
    "        20., 48.,  5., 34., 37., 51., 26., 35., 11., 42., 29., 36.,  5., 22.,\n",
    "        51., 47., 23., 35.,  2., 43.,  3., 33., 50., 35., 29., 24., 36.,  2.,\n",
    "         3., 42., 40., 17., 54., 47., 11., 11., 42., 30., 10., 17.])"
   ]
  },
  {
   "cell_type": "code",
   "execution_count": 14,
   "id": "30c829a9",
   "metadata": {},
   "outputs": [
    {
     "name": "stdout",
     "output_type": "stream",
     "text": [
      "tensor([  3,   6,  13,  16,  23,  24,  41,  42,  45,  49,  53,  54,  66,  68,\n",
      "         70,  77,  78,  80,  84,  85,  98, 111, 116, 117, 118, 119, 120, 122,\n",
      "        125, 128, 129, 132, 144, 145, 148, 150, 155, 172, 177, 181, 196, 206,\n",
      "        207])\n"
     ]
    }
   ],
   "source": [
    "differ = torch.nonzero((correct1 != correct2).float()).view(-1)\n",
    "print(differ)"
   ]
  },
  {
   "cell_type": "code",
   "execution_count": 15,
   "id": "cd8c809d",
   "metadata": {},
   "outputs": [],
   "source": [
    "true_on_diff = true[differ]\n",
    "correct1_on_diff = correct1[differ]\n",
    "pred1_on_diff = pred1[differ]\n",
    "correct2_on_diff = correct2[differ]\n",
    "pred2_on_diff = pred2[differ]"
   ]
  },
  {
   "cell_type": "code",
   "execution_count": 31,
   "id": "83d74433",
   "metadata": {},
   "outputs": [
    {
     "name": "stdout",
     "output_type": "stream",
     "text": [
      "/atlas/u/buzkent/fmow-rgb/val/golf_course/golf_course_2/golf_course_2_9_rgb_crop_0.jpg\n"
     ]
    },
    {
     "data": {
      "text/plain": [
       "<matplotlib.image.AxesImage at 0x7fd29e9f5880>"
      ]
     },
     "execution_count": 31,
     "metadata": {},
     "output_type": "execute_result"
    },
    {
     "data": {
      "image/png": "[encoded data removed]",
      "text/plain": [
       "<Figure size 432x288 with 1 Axes>"
      ]
     },
     "metadata": {
      "needs_background": "light"
     },
     "output_type": "display_data"
    }
   ],
   "source": [
    "print(dataset_val.image_arr[6])\n",
    "plt.imshow(Image.open(dataset_val.image_arr[6]))"
   ]
  },
  {
   "cell_type": "code",
   "execution_count": 17,
   "id": "e81ce11a",
   "metadata": {},
   "outputs": [
    {
     "data": {
      "text/plain": [
       "array([ 5, 21,  2, 28, 61, 29, 30, 36, 37,  6, 14, 23, 22, 39, 18,  4, 14,\n",
       "       60, 48, 11,  8, 19, 40, 17, 40, 30, 37, 22,  1,  8, 37, 19, 36, 17,\n",
       "       34, 47,  7, 37, 14, 35, 33, 23, 29])"
      ]
     },
     "execution_count": 17,
     "metadata": {},
     "output_type": "execute_result"
    }
   ],
   "source": [
    "dataset_val.label_arr[differ]"
   ]
  },
  {
   "cell_type": "code",
   "execution_count": 25,
   "id": "cc11dd2c",
   "metadata": {},
   "outputs": [],
   "source": [
    "os.makedirs('figures/sample_img', exist_ok=True)"
   ]
  },
  {
   "cell_type": "code",
   "execution_count": 33,
   "id": "f23a1df5",
   "metadata": {},
   "outputs": [
    {
     "name": "stdout",
     "output_type": "stream",
     "text": [
      "{'img_net_pred': 'surface_mine', 'fmow_pred': 'archaeological_site', 'gt': 'archaeological_site', 'img_net_correct': False}\n",
      "{'img_net_pred': 'golf_course', 'fmow_pred': 'park', 'gt': 'golf_course', 'img_net_correct': True}\n",
      "{'img_net_pred': 'airport_terminal', 'fmow_pred': 'border_checkpoint', 'gt': 'airport_terminal', 'img_net_correct': True}\n",
      "{'img_net_pred': 'lighthouse', 'fmow_pred': 'golf_course', 'gt': 'lighthouse', 'img_net_correct': True}\n",
      "{'img_net_pred': 'zoo', 'fmow_pred': 'amusement_park', 'gt': 'zoo', 'img_net_correct': True}\n",
      "{'img_net_pred': 'military_facility', 'fmow_pred': 'educational_institution', 'gt': 'military_facility', 'img_net_correct': True}\n",
      "{'img_net_pred': 'debris_or_rubble', 'fmow_pred': 'multi-unit_residential', 'gt': 'multi-unit_residential', 'img_net_correct': False}\n",
      "{'img_net_pred': 'multi-unit_residential', 'fmow_pred': 'place_of_worship', 'gt': 'place_of_worship', 'img_net_correct': False}\n",
      "{'img_net_pred': 'multi-unit_residential', 'fmow_pred': 'police_station', 'gt': 'police_station', 'img_net_correct': False}\n",
      "{'img_net_pred': 'barn', 'fmow_pred': 'place_of_worship', 'gt': 'barn', 'img_net_correct': True}\n",
      "{'img_net_pred': 'educational_institution', 'fmow_pred': 'parking_lot_or_garage', 'gt': 'educational_institution', 'img_net_correct': True}\n",
      "{'img_net_pred': 'helipad', 'fmow_pred': 'recreational_facility', 'gt': 'helipad', 'img_net_correct': True}\n",
      "{'img_net_pred': 'ground_transportation_station', 'fmow_pred': 'prison', 'gt': 'ground_transportation_station', 'img_net_correct': True}\n",
      "{'img_net_pred': 'prison', 'fmow_pred': 'place_of_worship', 'gt': 'prison', 'img_net_correct': True}\n",
      "{'img_net_pred': 'road_bridge', 'fmow_pred': 'flooded_road', 'gt': 'flooded_road', 'img_net_correct': False}\n",
      "{'img_net_pred': 'aquaculture', 'fmow_pred': 'lake_or_pond', 'gt': 'aquaculture', 'img_net_correct': True}\n",
      "{'img_net_pred': 'educational_institution', 'fmow_pred': 'hospital', 'gt': 'educational_institution', 'img_net_correct': True}\n",
      "{'img_net_pred': 'archaeological_site', 'fmow_pred': 'wind_farm', 'gt': 'wind_farm', 'img_net_correct': False}\n",
      "{'img_net_pred': 'smokestack', 'fmow_pred': 'tower', 'gt': 'smokestack', 'img_net_correct': True}\n",
      "{'img_net_pred': 'road_bridge', 'fmow_pred': 'crop_field', 'gt': 'crop_field', 'img_net_correct': False}\n",
      "{'img_net_pred': 'burial_site', 'fmow_pred': 'police_station', 'gt': 'burial_site', 'img_net_correct': True}\n",
      "{'img_net_pred': 'fountain', 'fmow_pred': 'archaeological_site', 'gt': 'fountain', 'img_net_correct': True}\n",
      "{'img_net_pred': 'race_track', 'fmow_pred': 'interchange', 'gt': 'race_track', 'img_net_correct': True}\n",
      "{'img_net_pred': 'fire_station', 'fmow_pred': 'parking_lot_or_garage', 'gt': 'fire_station', 'img_net_correct': True}\n",
      "{'img_net_pred': 'race_track', 'fmow_pred': 'amusement_park', 'gt': 'race_track', 'img_net_correct': True}\n",
      "{'img_net_pred': 'multi-unit_residential', 'fmow_pred': 'place_of_worship', 'gt': 'multi-unit_residential', 'img_net_correct': True}\n",
      "{'img_net_pred': 'police_station', 'fmow_pred': 'place_of_worship', 'gt': 'police_station', 'img_net_correct': True}\n",
      "{'img_net_pred': 'office_building', 'fmow_pred': 'ground_transportation_station', 'gt': 'ground_transportation_station', 'img_net_correct': False}\n",
      "{'img_net_pred': 'airport_hangar', 'fmow_pred': 'airport_terminal', 'gt': 'airport_hangar', 'img_net_correct': True}\n",
      "{'img_net_pred': 'burial_site', 'fmow_pred': 'crop_field', 'gt': 'burial_site', 'img_net_correct': True}\n",
      "{'img_net_pred': 'police_station', 'fmow_pred': 'fire_station', 'gt': 'police_station', 'img_net_correct': True}\n",
      "{'img_net_pred': 'fountain', 'fmow_pred': 'recreational_facility', 'gt': 'fountain', 'img_net_correct': True}\n",
      "{'img_net_pred': 'place_of_worship', 'fmow_pred': 'police_station', 'gt': 'place_of_worship', 'img_net_correct': True}\n",
      "{'img_net_pred': 'fire_station', 'fmow_pred': 'educational_institution', 'gt': 'fire_station', 'img_net_correct': True}\n",
      "{'img_net_pred': 'park', 'fmow_pred': 'place_of_worship', 'gt': 'park', 'img_net_correct': True}\n",
      "{'img_net_pred': 'single-unit_residential', 'fmow_pred': 'multi-unit_residential', 'gt': 'single-unit_residential', 'img_net_correct': True}\n",
      "{'img_net_pred': 'border_checkpoint', 'fmow_pred': 'surface_mine', 'gt': 'border_checkpoint', 'img_net_correct': True}\n",
      "{'img_net_pred': 'fire_station', 'fmow_pred': 'police_station', 'gt': 'police_station', 'img_net_correct': False}\n",
      "{'img_net_pred': 'educational_institution', 'fmow_pred': 'recreational_facility', 'gt': 'educational_institution', 'img_net_correct': True}\n",
      "{'img_net_pred': 'parking_lot_or_garage', 'fmow_pred': 'ground_transportation_station', 'gt': 'parking_lot_or_garage', 'img_net_correct': True}\n",
      "{'img_net_pred': 'oil_or_gas_facility', 'fmow_pred': 'amusement_park', 'gt': 'oil_or_gas_facility', 'img_net_correct': True}\n",
      "{'img_net_pred': 'helipad', 'fmow_pred': 'construction_site', 'gt': 'helipad', 'img_net_correct': True}\n",
      "{'img_net_pred': 'military_facility', 'fmow_pred': 'fire_station', 'gt': 'military_facility', 'img_net_correct': True}\n"
     ]
    }
   ],
   "source": [
    "for i in differ:\n",
    "    im_path = dataset_val.image_arr[i]\n",
    "    im = Image.open(im_path)\n",
    "    im.save(f'figures/sample_img/{i}.jpg')\n",
    "    info = {\n",
    "        'img_net_pred': CATEGORIES[int(pred1[i])],\n",
    "        'fmow_pred': CATEGORIES[int(pred2[i])],\n",
    "        'gt': CATEGORIES[int(true[i])],\n",
    "        'img_net_correct': bool(correct1[i])\n",
    "    }\n",
    "    print(info)\n",
    "    with open(f'figures/sample_img/{i}.json', 'w') as f:\n",
    "        json.dump(info, f)"
   ]
  },
  {
   "cell_type": "code",
   "execution_count": 35,
   "id": "e0bade08",
   "metadata": {},
   "outputs": [
    {
     "name": "stdout",
     "output_type": "stream",
     "text": [
      "tensor([ 11,  12,  20,  21,  29,  34,  36,  52,  57,  60,  62,  74,  79,  86,\n",
      "         91,  93,  95,  96, 100, 101, 108, 113, 130, 135, 142, 159, 161, 162,\n",
      "        163, 178, 185, 193, 194, 199, 205])\n"
     ]
    }
   ],
   "source": [
    "both_wrong = torch.nonzero(((correct1 == 0) & (correct2 == 0)).float()).view(-1)\n",
    "print(both_wrong)"
   ]
  },
  {
   "cell_type": "code",
   "execution_count": 36,
   "id": "9979f132",
   "metadata": {},
   "outputs": [
    {
     "name": "stdout",
     "output_type": "stream",
     "text": [
      "{'img_net_pred': 'barn', 'fmow_pred': 'fire_station', 'gt': 'office_building', 'img_net_correct': False}\n",
      "{'img_net_pred': 'debris_or_rubble', 'fmow_pred': 'border_checkpoint', 'gt': 'hospital', 'img_net_correct': False}\n",
      "{'img_net_pred': 'storage_tank', 'fmow_pred': 'tower', 'gt': 'debris_or_rubble', 'img_net_correct': False}\n",
      "{'img_net_pred': 'single-unit_residential', 'fmow_pred': 'single-unit_residential', 'gt': 'airport_hangar', 'img_net_correct': False}\n",
      "{'img_net_pred': 'waste_disposal', 'fmow_pred': 'prison', 'gt': 'zoo', 'img_net_correct': False}\n",
      "{'img_net_pred': 'police_station', 'fmow_pred': 'police_station', 'gt': 'hospital', 'img_net_correct': False}\n",
      "{'img_net_pred': 'parking_lot_or_garage', 'fmow_pred': 'parking_lot_or_garage', 'gt': 'place_of_worship', 'img_net_correct': False}\n",
      "{'img_net_pred': 'electric_substation', 'fmow_pred': 'office_building', 'gt': 'smokestack', 'img_net_correct': False}\n",
      "{'img_net_pred': 'single-unit_residential', 'fmow_pred': 'single-unit_residential', 'gt': 'multi-unit_residential', 'img_net_correct': False}\n",
      "{'img_net_pred': 'prison', 'fmow_pred': 'factory_or_powerplant', 'gt': 'space_facility', 'img_net_correct': False}\n",
      "{'img_net_pred': 'hospital', 'fmow_pred': 'multi-unit_residential', 'gt': 'shopping_mall', 'img_net_correct': False}\n",
      "{'img_net_pred': 'ground_transportation_station', 'fmow_pred': 'airport_terminal', 'gt': 'car_dealership', 'img_net_correct': False}\n",
      "{'img_net_pred': 'place_of_worship', 'fmow_pred': 'single-unit_residential', 'gt': 'fire_station', 'img_net_correct': False}\n",
      "{'img_net_pred': 'office_building', 'fmow_pred': 'prison', 'gt': 'hospital', 'img_net_correct': False}\n",
      "{'img_net_pred': 'parking_lot_or_garage', 'fmow_pred': 'shopping_mall', 'gt': 'airport_terminal', 'img_net_correct': False}\n",
      "{'img_net_pred': 'parking_lot_or_garage', 'fmow_pred': 'military_facility', 'gt': 'office_building', 'img_net_correct': False}\n",
      "{'img_net_pred': 'fire_station', 'fmow_pred': 'fire_station', 'gt': 'office_building', 'img_net_correct': False}\n",
      "{'img_net_pred': 'place_of_worship', 'fmow_pred': 'multi-unit_residential', 'gt': 'tower', 'img_net_correct': False}\n",
      "{'img_net_pred': 'ground_transportation_station', 'fmow_pred': 'helipad', 'gt': 'office_building', 'img_net_correct': False}\n",
      "{'img_net_pred': 'parking_lot_or_garage', 'fmow_pred': 'smokestack', 'gt': 'place_of_worship', 'img_net_correct': False}\n",
      "{'img_net_pred': 'golf_course', 'fmow_pred': 'golf_course', 'gt': 'amusement_park', 'img_net_correct': False}\n",
      "{'img_net_pred': 'single-unit_residential', 'fmow_pred': 'police_station', 'gt': 'educational_institution', 'img_net_correct': False}\n",
      "{'img_net_pred': 'water_treatment_facility', 'fmow_pred': 'airport_hangar', 'gt': 'solar_farm', 'img_net_correct': False}\n",
      "{'img_net_pred': 'road_bridge', 'fmow_pred': 'road_bridge', 'gt': 'railway_bridge', 'img_net_correct': False}\n",
      "{'img_net_pred': 'multi-unit_residential', 'fmow_pred': 'parking_lot_or_garage', 'gt': 'fire_station', 'img_net_correct': False}\n",
      "{'img_net_pred': 'solar_farm', 'fmow_pred': 'solar_farm', 'gt': 'barn', 'img_net_correct': False}\n",
      "{'img_net_pred': 'park', 'fmow_pred': 'burial_site', 'gt': 'zoo', 'img_net_correct': False}\n",
      "{'img_net_pred': 'swimming_pool', 'fmow_pred': 'office_building', 'gt': 'police_station', 'img_net_correct': False}\n",
      "{'img_net_pred': 'multi-unit_residential', 'fmow_pred': 'multi-unit_residential', 'gt': 'place_of_worship', 'img_net_correct': False}\n",
      "{'img_net_pred': 'hospital', 'fmow_pred': 'military_facility', 'gt': 'barn', 'img_net_correct': False}\n",
      "{'img_net_pred': 'toll_booth', 'fmow_pred': 'parking_lot_or_garage', 'gt': 'ground_transportation_station', 'img_net_correct': False}\n",
      "{'img_net_pred': 'prison', 'fmow_pred': 'hospital', 'gt': 'multi-unit_residential', 'img_net_correct': False}\n",
      "{'img_net_pred': 'place_of_worship', 'fmow_pred': 'place_of_worship', 'gt': 'military_facility', 'img_net_correct': False}\n",
      "{'img_net_pred': 'police_station', 'fmow_pred': 'fire_station', 'gt': 'hospital', 'img_net_correct': False}\n",
      "{'img_net_pred': 'hospital', 'fmow_pred': 'multi-unit_residential', 'gt': 'educational_institution', 'img_net_correct': False}\n"
     ]
    }
   ],
   "source": [
    "for i in both_wrong:\n",
    "    im_path = dataset_val.image_arr[i]\n",
    "    im = Image.open(im_path)\n",
    "    im.save(f'figures/sample_img/{i}.jpg')\n",
    "    info = {\n",
    "        'img_net_pred': CATEGORIES[int(pred1[i])],\n",
    "        'fmow_pred': CATEGORIES[int(pred2[i])],\n",
    "        'gt': CATEGORIES[int(true[i])],\n",
    "        'img_net_correct': bool(correct1[i])\n",
    "    }\n",
    "    print(info)\n",
    "    with open(f'figures/sample_img/{i}.json', 'w') as f:\n",
    "        json.dump(info, f)"
   ]
  },
  {
   "cell_type": "code",
   "execution_count": null,
   "id": "6b2cfeea",
   "metadata": {},
   "outputs": [],
   "source": []
  }
 ],
 "metadata": {
  "kernelspec": {
   "display_name": "Python 3 (ipykernel)",
   "language": "python",
   "name": "python3"
  },
  "language_info": {
   "codemirror_mode": {
    "name": "ipython",
    "version": 3
   },
   "file_extension": ".py",
   "mimetype": "text/x-python",
   "name": "python",
   "nbconvert_exporter": "python",
   "pygments_lexer": "ipython3",
   "version": "3.8.12"
  }
 },
 "nbformat": 4,
 "nbformat_minor": 5
}
